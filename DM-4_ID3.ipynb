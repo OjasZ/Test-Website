{
 "cells": [
  {
   "cell_type": "code",
   "execution_count": null,
   "id": "a20832e5-62d9-465f-9876-3239bb2d6a34",
   "metadata": {},
   "outputs": [],
   "source": [
    "#NAME : OJAS SINGH             REG NO : 21BDS0187"
   ]
  },
  {
   "cell_type": "code",
   "execution_count": 9,
   "id": "a48b0c7d-6d22-4e8a-8aa0-893add9f47dd",
   "metadata": {},
   "outputs": [
    {
     "name": "stdout",
     "output_type": "stream",
     "text": [
      "{'Outlook': {'Sunny': {'Humidity': {'Normal': 'Yes', 'High': 'No'}}, 'Rain': {'Wind': {'Weak': 'Yes', 'Strong': 'No'}}, 'Overcast': 'Yes'}}\n"
     ]
    }
   ],
   "source": [
    "from math import log\n",
    "import operator\n",
    "import csv\n",
    "\n",
    "def load_dataset(filename):\n",
    "    with open(filename, 'r') as file:\n",
    "        csv_reader = csv.reader(file)\n",
    "        headers = next(csv_reader)\n",
    "        dataset = [row for row in csv_reader]\n",
    "    return dataset, headers[:-1]\n",
    "\n",
    "def entropy(data):\n",
    "    entries = len(data)\n",
    "    labels = {}\n",
    "    for feat in data:\n",
    "        label = feat[-1]\n",
    "        labels[label] = labels.get(label, 0) + 1\n",
    "    entropy_val = 0.0\n",
    "    for key in labels:\n",
    "        prob = float(labels[key])/entries\n",
    "        entropy_val -= prob * log(prob, 2)\n",
    "    return entropy_val\n",
    "\n",
    "def split_data(data, axis, value):\n",
    "    return [feat[:axis] + feat[axis+1:] for feat in data if feat[axis] == value]\n",
    "\n",
    "def choose_best_feature(data):\n",
    "    num_features = len(data[0]) - 1\n",
    "    base_entropy = entropy(data)\n",
    "    best_info_gain = 0.0\n",
    "    best_feature = -1\n",
    "\n",
    "    for i in range(num_features):\n",
    "        feat_values = {ex[i] for ex in data}\n",
    "        new_entropy = 0.0\n",
    "        for value in feat_values:\n",
    "            subset = split_data(data, i, value)\n",
    "            prob = len(subset)/float(len(data))\n",
    "            new_entropy += prob * entropy(subset)\n",
    "        info_gain = base_entropy - new_entropy\n",
    "        if info_gain > best_info_gain:\n",
    "            best_info_gain = info_gain\n",
    "            best_feature = i\n",
    "    return best_feature\n",
    "\n",
    "def majority_class(class_list):\n",
    "    class_count = {}\n",
    "    for vote in class_list:\n",
    "        class_count[vote] = class_count.get(vote, 0) + 1\n",
    "    return max(class_count.items(), key=operator.itemgetter(1))[0]\n",
    "\n",
    "def build_tree(data, labels):\n",
    "    class_list = [ex[-1] for ex in data]\n",
    "    \n",
    "    if class_list.count(class_list[0]) == len(class_list):\n",
    "        return class_list[0]\n",
    "    if len(data[0]) == 1:\n",
    "        return majority_class(class_list)\n",
    "    \n",
    "    best_feat = choose_best_feature(data)\n",
    "    best_feat_label = labels[best_feat]\n",
    "    \n",
    "    tree = {best_feat_label: {}}\n",
    "    del(labels[best_feat])\n",
    "    \n",
    "    feat_values = {ex[best_feat] for ex in data}\n",
    "    for value in feat_values:\n",
    "        sub_labels = labels[:]\n",
    "        subset = split_data(data, best_feat, value)\n",
    "        tree[best_feat_label][value] = build_tree(subset, sub_labels)\n",
    "    \n",
    "    return tree\n",
    "\n",
    "# Usage example with your dataset\n",
    "dataset, labels = load_dataset('tennis.csv')\n",
    "decision_tree = build_tree(dataset, labels)\n",
    "print(decision_tree)\n"
   ]
  },
  {
   "cell_type": "code",
   "execution_count": null,
   "id": "b29f8f29-6049-4efc-bbf3-f2bcfc0dd6b4",
   "metadata": {},
   "outputs": [],
   "source": []
  }
 ],
 "metadata": {
  "kernelspec": {
   "display_name": "Python 3 (ipykernel)",
   "language": "python",
   "name": "python3"
  },
  "language_info": {
   "codemirror_mode": {
    "name": "ipython",
    "version": 3
   },
   "file_extension": ".py",
   "mimetype": "text/x-python",
   "name": "python",
   "nbconvert_exporter": "python",
   "pygments_lexer": "ipython3",
   "version": "3.12.4"
  }
 },
 "nbformat": 4,
 "nbformat_minor": 5
}
